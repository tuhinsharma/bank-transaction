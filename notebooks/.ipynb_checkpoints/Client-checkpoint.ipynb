{
 "cells": [
  {
   "cell_type": "code",
   "execution_count": 50,
   "metadata": {},
   "outputs": [],
   "source": [
    "import requests\n",
    "url = \"http://127.0.0.1:6006/api/parse-transaction\"\n",
    "# url = \"http://127.0.0.1:5000/api/parse-transaction\""
   ]
  },
  {
   "cell_type": "code",
   "execution_count": 52,
   "metadata": {},
   "outputs": [
    {
     "data": {
      "text/plain": [
       "{'Categorized Transaction': [{'Transaction Date': '6 Jan 2017',\n",
       "   'Transaction Details': 'TO TRANSFER-INB Deposit /Investment-',\n",
       "   'category': 'other'},\n",
       "  {'Transaction Date': '25 Mar2017',\n",
       "   'Transaction Details': 'CREDIT INTEREST--',\n",
       "   'category': 'Fees & Charges'}]}"
      ]
     },
     "execution_count": 52,
     "metadata": {},
     "output_type": "execute_result"
    }
   ],
   "source": [
    "data = open(\"sbi4.pdf\", 'rb')\n",
    "files = {'files': data}\n",
    "r = requests.post(url, files=files)\n",
    "r.json()"
   ]
  },
  {
   "cell_type": "code",
   "execution_count": null,
   "metadata": {},
   "outputs": [],
   "source": []
  }
 ],
 "metadata": {
  "kernelspec": {
   "display_name": "bank_transaction_v3",
   "language": "python",
   "name": "bank_transaction_v3"
  },
  "language_info": {
   "codemirror_mode": {
    "name": "ipython",
    "version": 3
   },
   "file_extension": ".py",
   "mimetype": "text/x-python",
   "name": "python",
   "nbconvert_exporter": "python",
   "pygments_lexer": "ipython3",
   "version": "3.6.5"
  }
 },
 "nbformat": 4,
 "nbformat_minor": 2
}
